{
 "cells": [
  {
   "cell_type": "code",
   "execution_count": 9,
   "metadata": {},
   "outputs": [
    {
     "name": "stdout",
     "output_type": "stream",
     "text": [
      "There are 1 image/s on page number 1[+]\n",
      "There are 2 image/s on page number 2[+]\n",
      "There are 1 image/s on page number 3[+]\n",
      "There are 1 image/s on page number 4[+]\n",
      "There are 1 image/s on page number 5[+]\n",
      "There are 2 image/s on page number 6[+]\n",
      "There are 2 image/s on page number 7[+]\n",
      "There are 2 image/s on page number 8[+]\n",
      "There are 1 image/s on page number 9[+]\n",
      "There are 1 image/s on page number 10[+]\n",
      "There are 1 image/s on page number 11[+]\n",
      "There are 2 image/s on page number 12[+]\n",
      "There are 2 image/s on page number 13[+]\n",
      "There are 3 image/s on page number 14[+]\n",
      "There are 1 image/s on page number 15[+]\n",
      "There are 1 image/s on page number 16[+]\n",
      "There are 1 image/s on page number 17[+]\n",
      "There are 2 image/s on page number 18[+]\n"
     ]
    }
   ],
   "source": [
    "import fitz # PyMuPDF\n",
    "import io\n",
    "from PIL import Image\n",
    "\n",
    "#filename\n",
    "filename = \"Product-Management-Interview-Questions-Book.pdf\"\n",
    "\n",
    "# open file\n",
    "with fitz.open(filename) as my_pdf_file:\n",
    "\n",
    "    #loop through every page\n",
    "    for page_number in range(1, len(my_pdf_file)+1):\n",
    "\n",
    "        # acess individual page\n",
    "        page = my_pdf_file[page_number-1]\n",
    "\n",
    "        # accesses all images of the page\n",
    "        images = page.getImageList()\n",
    "\n",
    "        # check if images are there\n",
    "        if images:\n",
    "            print(f\"There are {len(images)} image/s on page number {page_number}[+]\")\n",
    "        else:\n",
    "            print(f\"There are No image/s on page number {page_number}[!]\")\n",
    "\n",
    "        # loop through all images present in the page\n",
    "        for image_number, image in enumerate(page.getImageList(), start=1):\n",
    "\n",
    "            #access image xerf\n",
    "            xref_value = image[0]\n",
    "\n",
    "            #extract image information\n",
    "            base_image = my_pdf_file.extractImage(xref_value)\n",
    "\n",
    "            # access the image itself\n",
    "            image_bytes = base_image[\"image\"]\n",
    "\n",
    "            #get image extension\n",
    "            ext = base_image[\"ext\"]\n",
    "\n",
    "            #load image\n",
    "            image = Image.open(io.BytesIO(image_bytes))\n",
    "\n",
    "            #save image locally\n",
    "            image.save(open(f\"Page{page_number}Image{image_number}.{ext}\", \"wb\"))"
   ]
  },
  {
   "cell_type": "code",
   "execution_count": null,
   "metadata": {},
   "outputs": [],
   "source": []
  }
 ],
 "metadata": {
  "kernelspec": {
   "display_name": "Python 3",
   "language": "python",
   "name": "python3"
  },
  "language_info": {
   "codemirror_mode": {
    "name": "ipython",
    "version": 3
   },
   "file_extension": ".py",
   "mimetype": "text/x-python",
   "name": "python",
   "nbconvert_exporter": "python",
   "pygments_lexer": "ipython3",
   "version": "3.7.6"
  }
 },
 "nbformat": 4,
 "nbformat_minor": 4
}
